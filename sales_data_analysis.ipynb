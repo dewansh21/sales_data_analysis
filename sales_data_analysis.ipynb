{
 "cells": [
  {
   "cell_type": "code",
   "execution_count": null,
   "id": "ebf3eb20-588d-4ee0-976c-b5f86cfc843d",
   "metadata": {},
   "outputs": [],
   "source": [
    "import pandas as pd\n",
    "import matplotlib.pyplot as plt"
   ]
  },
  {
   "cell_type": "code",
   "execution_count": null,
   "id": "bbbb38a7-2b1f-4612-a46b-eab24432571a",
   "metadata": {},
   "outputs": [],
   "source": [
    "#Load Dataset\n",
    "\n",
    "data = pd.read_csv(\"C:/Users/HP/Desktop/Vaibhav/retail_sales_dataset.csv\")\n",
    "print(\"---Data loaded successfully---\")\n",
    "print(data.head())\n",
    "print(\"---Data Information---\")\n",
    "data.info()"
   ]
  },
  {
   "cell_type": "code",
   "execution_count": null,
   "id": "a1bb35f9-0f34-462f-aa9b-7526e51d64d8",
   "metadata": {},
   "outputs": [],
   "source": [
    "#Basic Statistics\n",
    "\n",
    "print(\"---Summary Statistics---\")\n",
    "data.describe()"
   ]
  },
  {
   "cell_type": "code",
   "execution_count": null,
   "id": "4a193112-75b1-48f6-91dd-92bf4aaa51d4",
   "metadata": {},
   "outputs": [],
   "source": [
    "#Handle Missing Values\n",
    "print(\"---Check missing values---\")\n",
    "print(data.isnull().sum())\n",
    "print(\"---Drop missing values (If any)---\")\n",
    "print(data.dropna())"
   ]
  },
  {
   "cell_type": "code",
   "execution_count": null,
   "id": "131b0241-0957-4793-a8a6-bb1b07a31036",
   "metadata": {},
   "outputs": [],
   "source": [
    "#Convert Date column to datetime\n",
    "\n",
    "data[\"Date\"] = pd.to_datetime(data[\"Date\"])"
   ]
  },
  {
   "cell_type": "code",
   "execution_count": null,
   "id": "8ff43824-a72f-405c-b654-8123a73b9840",
   "metadata": {},
   "outputs": [],
   "source": [
    "#Add Month & Year for analysis\n",
    "\n",
    "data[\"Month\"] = data[\"Date\"].dt.to_period(\"M\")"
   ]
  },
  {
   "cell_type": "code",
   "execution_count": null,
   "id": "11cd8cd7-847e-4e60-9357-93eea60ed0a9",
   "metadata": {},
   "outputs": [],
   "source": [
    "#Monthly Revenue\n",
    "\n",
    "monthly_revenue = data.groupby(\"Month\")[\"Total Amount\"].sum()\n",
    "plt.figure(figsize=(20, 10))\n",
    "monthly_revenue.plot(kind=\"line\", marker=\"o\", color=\"blue\")\n",
    "plt.title(\"Monthly Revenue Trend\")\n",
    "plt.xlabel(\"Month\")\n",
    "plt.ylabel(\"Revenue\")\n",
    "plt.grid(True)\n",
    "plt.show()"
   ]
  },
  {
   "cell_type": "code",
   "execution_count": null,
   "id": "c4b174ae-c4a2-413a-8e7b-22451d5bd7da",
   "metadata": {},
   "outputs": [],
   "source": [
    "#Top Product Categories\n",
    "\n",
    "category_sales = data.groupby(\"Product Category\")[\"Total Amount\"].sum().sort_values(ascending=False)\n",
    "plt.figure(figsize=(7, 5))\n",
    "category_sales.plot(kind=\"bar\", color=\"green\")\n",
    "plt.title(\"Revenue by Product Category\")\n",
    "plt.xlabel(\"Product Category\")\n",
    "plt.ylabel(\"Revenue\")\n",
    "plt.show()"
   ]
  },
  {
   "cell_type": "code",
   "execution_count": null,
   "id": "50709937-0289-48e7-9a5f-99822a09da33",
   "metadata": {},
   "outputs": [],
   "source": [
    "#Gender-wise Revenue\n",
    "\n",
    "gender_sales = data.groupby(\"Gender\")[\"Total Amount\"].sum()\n",
    "plt.figure(figsize=(5, 4))\n",
    "gender_sales.plot(kind=\"bar\", color=[\"black\", \"orange\"])\n",
    "plt.title(\"Revenue by Gender\")\n",
    "plt.xlabel(\"Gender\")\n",
    "plt.ylabel(\"Revenue\")\n",
    "plt.show()"
   ]
  },
  {
   "cell_type": "code",
   "execution_count": null,
   "id": "cc7525fb-286d-464b-912a-a231385c04f9",
   "metadata": {
    "scrolled": true
   },
   "outputs": [],
   "source": [
    "#Age Group Analysis\n",
    "\n",
    "bins = [0, 18, 30, 45, 60, 100]\n",
    "labels = [\"<18\", \"18-30\", \"31-45\", \"46-60\", \"60+\"]\n",
    "data[\"Age Group\"] = pd.cut(data[\"Age\"], bins=bins, labels=labels)\n",
    "age_group_sales = data.groupby(\"Age Group\",observed = False)[\"Total Amount\"].sum()\n",
    "plt.figure(figsize=(8, 5))\n",
    "age_group_sales.plot(kind=\"bar\", color=\"purple\")\n",
    "plt.title(\"Revenue by Age Group\")\n",
    "plt.xlabel(\"Age Group\")\n",
    "plt.ylabel(\"Revenue\")\n",
    "plt.show()"
   ]
  },
  {
   "cell_type": "code",
   "execution_count": null,
   "id": "f90a8b4f-0505-4318-8092-191a2ca8de45",
   "metadata": {},
   "outputs": [],
   "source": [
    "#Top 10 Customers by Revenue\n",
    "\n",
    "top_customers = data.groupby(\"Customer ID\")[\"Total Amount\"].sum().sort_values(ascending=False).head(10)\n",
    "print(\"\\nTop 10 Customers by Revenue:\\n\", top_customers)\n",
    "\n",
    "plt.figure(figsize=(10, 5))\n",
    "top_customers.plot(kind=\"bar\", color=\"orange\")\n",
    "plt.title(\"Top 10 Customers by Revenue\")\n",
    "plt.xlabel(\"Customer ID\")\n",
    "plt.ylabel(\"Revenue\")\n",
    "plt.show()"
   ]
  },
  {
   "cell_type": "code",
   "execution_count": null,
   "id": "77689004-6298-4ca3-ae80-d707aaf86824",
   "metadata": {},
   "outputs": [],
   "source": [
    "#Average Order Value (AOV)\n",
    "aov = data[\"Total Amount\"].mean()\n",
    "print(f\"\\n💰 Average Order Value (AOV): {aov:.2f}\")"
   ]
  },
  {
   "cell_type": "code",
   "execution_count": null,
   "id": "5680ac7a-ace4-44e4-a24c-98feca6a1253",
   "metadata": {},
   "outputs": [],
   "source": []
  }
 ],
 "metadata": {
  "kernelspec": {
   "display_name": "Python [conda env:base] *",
   "language": "python",
   "name": "conda-base-py"
  },
  "language_info": {
   "codemirror_mode": {
    "name": "ipython",
    "version": 3
   },
   "file_extension": ".py",
   "mimetype": "text/x-python",
   "name": "python",
   "nbconvert_exporter": "python",
   "pygments_lexer": "ipython3",
   "version": "3.12.7"
  }
 },
 "nbformat": 4,
 "nbformat_minor": 5
}
